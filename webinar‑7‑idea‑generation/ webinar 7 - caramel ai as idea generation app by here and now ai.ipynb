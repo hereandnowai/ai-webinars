{
  "cells": [
    {
      "cell_type": "code",
      "execution_count": null,
      "metadata": {
        "colab": {
          "base_uri": "https://localhost:8080/"
        },
        "collapsed": true,
        "id": "H5zOo4ICsknm",
        "outputId": "e38636af-7022-4643-c05d-ff86e1e41c81"
      },
      "outputs": [],
      "source": [
        "# Step 1 - installing the necessary libraries.\n",
        "%pip install openai gradio python-dotenv"
      ]
    },
    {
      "cell_type": "code",
      "execution_count": null,
      "metadata": {
        "id": "ut8b75Eot4WO"
      },
      "outputs": [],
      "source": [
        "# Step 2 - import\n",
        "from openai import OpenAI\n",
        "import gradio as gr\n",
        "\n",
        "# for loading the api_key from .env file on vs code\n",
        "import os\n",
        "from dotenv import load_dotenv\n",
        "\n",
        "# for loading the api_key from google colab\n",
        "# from google.colab import userdata "
      ]
    },
    {
      "cell_type": "code",
      "execution_count": null,
      "metadata": {},
      "outputs": [],
      "source": [
        "# Get the API key from .env file\n",
        "api_key = os.getenv(\"GOOGLE_API_KEY\")\n",
        "\n",
        "# Get the API key from google colab secrets\n",
        "# api_key = userdata.get(\"GOOGLE_API_KEY\")"
      ]
    },
    {
      "cell_type": "code",
      "execution_count": 5,
      "metadata": {
        "id": "fySGQ0Wjt5zh"
      },
      "outputs": [],
      "source": [
        "# Step 3 - load base_url & api_key (https://aistudio.google.com/apikey)\n",
        "client = OpenAI(\n",
        "    base_url=\"https://generativelanguage.googleapis.com/v1beta/openai\",\n",
        "    api_key=api_key\n",
        ")"
      ]
    },
    {
      "cell_type": "code",
      "execution_count": 6,
      "metadata": {
        "id": "7Hob1h-ft7RK"
      },
      "outputs": [],
      "source": [
        "# Step 4 - give a personality to our ai - Caramel AI\n",
        "caramel_ai = \"\"\" You are Caramel AI – Idea Generator, built at HERE AND NOW AI – Artificial Intelligence Research Institute.\n",
        "\n",
        "When the user requests **numbered lists**, always render in strict Markdown with exactly:\n",
        "\n",
        "1. Top-level items numbered “1.”, “2.”, “3.”, etc.\n",
        "    A. Second-level items labeled “A.”, “B.”, “C.”, etc.\n",
        "        i. Third-level items labeled “i.”, “ii.”, “iii.”, etc.\n",
        "\n",
        "Ensure there is a blank line before and after every numbered list so that Markdown renders correctly.\n",
        "\n",
        "When the user requests **bullet lists**, always use the Unicode bullet character “•” for each item, indenting by four spaces per level:\n",
        "\n",
        "• First-level bullet\n",
        "    • Second-level bullet\n",
        "        • Third-level bullet\n",
        "\n",
        "Always leave a blank line before and after every bullet list so Markdown renders properly.\n",
        "\n",
        "When the user requests a **paragraph**, do **not** use any list markers. Simply output one or more full sentences, without numbers, bullets, or asterisks. Ensure the text forms coherent paragraphs, with appropriate punctuation and line breaks, and respects the requested tone and length.\n",
        "\"\"\"\n"
      ]
    },
    {
      "cell_type": "code",
      "execution_count": 7,
      "metadata": {
        "id": "UVPYAQj_t8t9"
      },
      "outputs": [],
      "source": [
        "# Step 5 - back-end\n",
        "def get_ideas(domain, tone, length, fmt, complexity, count, user_prompt=None):\n",
        "  base = (\n",
        "      f\"Generate {count} unique ideas in the domain of {domain}. \"\n",
        "      f\"Write in a {tone}, {complexity} complexity, ~{length}, words each. \"\n",
        "      f\"Format the output as a {fmt}\"\n",
        "  )\n",
        "  if user_prompt:\n",
        "    base += f\"Also consider this context: {user_prompt}\"\n",
        "\n",
        "  messages = [\n",
        "      {\"role\": \"system\", \"content\": caramel_ai},\n",
        "      {\"role\": \"user\", \"content\": base}\n",
        "  ]\n",
        "\n",
        "  response = client.chat.completions.create(\n",
        "      model=\"gemini-1.5-flash-latest\",\n",
        "      messages=messages\n",
        "  )\n",
        "  return response.choices[0].message.content"
      ]
    },
    {
      "cell_type": "code",
      "execution_count": 9,
      "metadata": {
        "colab": {
          "base_uri": "https://localhost:8080/",
          "height": 646
        },
        "id": "Y90nZ1P8xRwD",
        "outputId": "2f73cf8a-b7ce-4305-e3ac-4e732cf50ecb"
      },
      "outputs": [
        {
          "name": "stdout",
          "output_type": "stream",
          "text": [
            "* Running on local URL:  http://127.0.0.1:7863\n",
            "* To create a public link, set `share=True` in `launch()`.\n"
          ]
        },
        {
          "data": {
            "text/html": [
              "<div><iframe src=\"http://127.0.0.1:7863/\" width=\"100%\" height=\"500\" allow=\"autoplay; camera; microphone; clipboard-read; clipboard-write;\" frameborder=\"0\" allowfullscreen></iframe></div>"
            ],
            "text/plain": [
              "<IPython.core.display.HTML object>"
            ]
          },
          "metadata": {},
          "output_type": "display_data"
        }
      ],
      "source": [
        "# Step 6 - front-end\n",
        "logo_url = \"https://raw.githubusercontent.com/hereandnowai/images/refs/heads/main/logos/HNAI%20Title%20-Teal%20%26%20Golden%20Logo%20-%20DESIGN%203%20-%20Raj-07.png\"\n",
        "favicon_url = \"https://raw.githubusercontent.com/hereandnowai/images/refs/heads/main/logos/HNAI%20Fevicon%20-Teal%20%26%20Golden%20Logo%20-%20DESIGN%203%20-%20Raj-03.png\"\n",
        "\n",
        "favicon_head_html = f\"\"\"\n",
        "<link rel=\"icon\" type=\"image/png\" href=\"{favicon_url}\"/>\n",
        "<link rel=\"shortcut icon\" type=\"image/png\" href=\"{favicon_url}\"/>\n",
        "\"\"\"\n",
        "\n",
        "with gr.Blocks(title=\"Caramel AI - Idea Generator build by HERE AND NOW AI\", head=favicon_head_html) as app:\n",
        "  with gr.Blocks(elem_classes=\"logo-container\"):\n",
        "    gr.Image(value=logo_url, show_download_button=False, container=False, height=80)\n",
        "\n",
        "  gr.Markdown(\"# Caramel AI - The Idea Generator App build by HERE AND NOW AI\")\n",
        "\n",
        "  with gr.Row():\n",
        "    domain = gr.Dropdown([\"Business\", \"Finance\", \"Education\", \"Creative Writing\", \"Tech\"], label=\"Domain\")\n",
        "    tone = gr.Dropdown([\"Professional\", \"Funny\", \"Casual\", \"Poetic\"], label=\"Tone\")\n",
        "    length = gr.Slider(50, 1000, step=50, label=\"Approx. Length (words)\")\n",
        "  with gr.Row():\n",
        "    fmt = gr.Radio([\"List\", \"Bullets\", \"Paragraph\"], label=\"Format\")\n",
        "    complexity = gr.Dropdown([\"Beginner\", \"Intermediate\", \"Advanced\"], label=\"Complexity\")\n",
        "    count = gr.Slider(1, 10, step=1, label=\"Number of Ideas\")\n",
        "  custom = gr.Textbox(lines=2, placeholder=\"Enter a topic for idea generation\", label=\"What's on your mind?\")\n",
        "\n",
        "  btn = gr.Button(\"Generate Ideas\", variant=\"primary\")\n",
        "  output = gr.Textbox(label=\"Ideas Generated by Caramel AI\", lines=12)\n",
        "\n",
        "  btn.click(fn=get_ideas, inputs=[domain, tone, length, fmt, complexity, count, custom], outputs=output)\n",
        "  app.launch()"
      ]
    }
  ],
  "metadata": {
    "colab": {
      "provenance": []
    },
    "kernelspec": {
      "display_name": "Python 3",
      "name": "python3"
    },
    "language_info": {
      "codemirror_mode": {
        "name": "ipython",
        "version": 3
      },
      "file_extension": ".py",
      "mimetype": "text/x-python",
      "name": "python",
      "nbconvert_exporter": "python",
      "pygments_lexer": "ipython3",
      "version": "3.10.12"
    }
  },
  "nbformat": 4,
  "nbformat_minor": 0
}
