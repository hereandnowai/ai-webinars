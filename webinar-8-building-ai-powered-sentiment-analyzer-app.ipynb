{
 "cells": [
  {
   "cell_type": "code",
   "execution_count": null,
   "id": "ba7cc4f4",
   "metadata": {},
   "outputs": [],
   "source": [
    "%pip install ipykernel -U --user --force-reinstall\n",
    "%pip install openai\n",
    "%pip install python-dotenv\n",
    "%pip install gradio"
   ]
  },
  {
   "cell_type": "code",
   "execution_count": 7,
   "id": "e87c8da4",
   "metadata": {},
   "outputs": [],
   "source": [
    "from openai import OpenAI\n",
    "import os\n",
    "from dotenv import load_dotenv\n",
    "import gradio as gr"
   ]
  },
  {
   "cell_type": "code",
   "execution_count": 9,
   "id": "42f9806c",
   "metadata": {},
   "outputs": [
    {
     "data": {
      "text/plain": [
       "True"
      ]
     },
     "execution_count": 9,
     "metadata": {},
     "output_type": "execute_result"
    }
   ],
   "source": [
    "# Load environment variables from .env\n",
    "load_dotenv()"
   ]
  },
  {
   "cell_type": "code",
   "execution_count": 10,
   "id": "4c0e4db1",
   "metadata": {},
   "outputs": [],
   "source": [
    "# Get the API key\n",
    "api_key=os.getenv(\"GOOGLE_API_KEY\")"
   ]
  },
  {
   "cell_type": "code",
   "execution_count": 11,
   "id": "3bb4680f",
   "metadata": {},
   "outputs": [],
   "source": [
    "# Use it in your client\n",
    "client = OpenAI(base_url=\"https://generativelanguage.googleapis.com/v1beta/openai\",\n",
    "                api_key=api_key)"
   ]
  },
  {
   "cell_type": "code",
   "execution_count": 14,
   "id": "bbbd32eb",
   "metadata": {},
   "outputs": [],
   "source": [
    "def analyze_review(review):\n",
    "  try:\n",
    "    prompt = f\"\"\"\n",
    "      Identify the following items from the review text:\n",
    "      - Sentiment (positive or negative)\n",
    "      - Is the reviewer expressing anger? (true or false)\n",
    "      - Item purchased by reviewer\n",
    "      - Company that made the item\n",
    "      The review is delimited with triple backticks. \\\n",
    "      Format your response as \"Sentiment\", \"Anger\", \"Item\" and \"Brand\" as the bullet points.\\\n",
    "      Also style it with emojis\\\n",
    "      If the information isn't present, use \"unknown\" \\\n",
    "      as the value.\n",
    "      Make your response as short as possible.\n",
    "      Format the Anger value as a boolean.\n",
    "      Review text: '''{review}'''\n",
    "    \"\"\"\n",
    "    messages = [\n",
    "        {\"role\": \"user\", \"content\": prompt}\n",
    "    ]\n",
    "    response = client.chat.completions.create(\n",
    "      model=\"gemini-1.5-flash-latest\",\n",
    "      messages=messages\n",
    "    )\n",
    "    return response.choices[0].message.content\n",
    "  except Exception as e:\n",
    "    return f\"Unexpected error: {str(e)}\""
   ]
  },
  {
   "cell_type": "code",
   "execution_count": 15,
   "id": "2caf3d32",
   "metadata": {},
   "outputs": [
    {
     "name": "stdout",
     "output_type": "stream",
     "text": [
      "* Running on local URL:  http://127.0.0.1:7860\n",
      "* To create a public link, set `share=True` in `launch()`.\n"
     ]
    },
    {
     "data": {
      "text/html": [
       "<div><iframe src=\"http://127.0.0.1:7860/\" width=\"100%\" height=\"500\" allow=\"autoplay; camera; microphone; clipboard-read; clipboard-write;\" frameborder=\"0\" allowfullscreen></iframe></div>"
      ],
      "text/plain": [
       "<IPython.core.display.HTML object>"
      ]
     },
     "metadata": {},
     "output_type": "display_data"
    }
   ],
   "source": [
    "logo_url=\"https://raw.githubusercontent.com/hereandnowai/images/refs/heads/main/logos/HNAI%20Title%20-Teal%20%26%20Golden%20Logo%20-%20DESIGN%203%20-%20Raj-07.png\"\n",
    "favicon_url=\"https://raw.githubusercontent.com/hereandnowai/images/refs/heads/main/logos/HNAI%20Fevicon%20-Teal%20%26%20Golden%20Logo%20-%20DESIGN%203%20-%20Raj-03.png\"\n",
    "favicon_head_html = f\"\"\"\n",
    "<link rel=\"icon\" type=\"image/png\" href=\"{favicon_url}\"/>\n",
    "\"\"\"\n",
    "with gr.Blocks(head=favicon_head_html, title=\"Caramel AI - The Sentiment Analyzer built by HERE AND NOW AI\") as app:\n",
    "  with gr.Blocks(elem_classes=\"logo-container\"):\n",
    "    gr.Image(value=logo_url, interactive=False, container=False, show_download_button=False, height=80)\n",
    "  gr.Markdown(\"## Caramel AI - The Sentiment Analyzer build by HERE AND NOW AI\")\n",
    "  review = gr.Textbox(lines=20, placeholder=\"Please paste the customer review here\", label=\"Review(s)\")\n",
    "  btn = gr.Button(\"Analyze\")\n",
    "  result = gr.Textbox(lines=10, label=\"Here are the results of my analyse\")\n",
    "\n",
    "  btn.click(fn=analyze_review, inputs=review, outputs=result)\n",
    "  app.launch()"
   ]
  }
 ],
 "metadata": {
  "kernelspec": {
   "display_name": "Python 3",
   "language": "python",
   "name": "python3"
  },
  "language_info": {
   "codemirror_mode": {
    "name": "ipython",
    "version": 3
   },
   "file_extension": ".py",
   "mimetype": "text/x-python",
   "name": "python",
   "nbconvert_exporter": "python",
   "pygments_lexer": "ipython3",
   "version": "3.10.12"
  }
 },
 "nbformat": 4,
 "nbformat_minor": 5
}
